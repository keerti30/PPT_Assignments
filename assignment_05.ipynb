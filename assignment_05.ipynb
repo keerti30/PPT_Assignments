{
 "cells": [
  {
   "attachments": {},
   "cell_type": "markdown",
   "metadata": {},
   "source": [
    "Q1. Converting a 1D array into 2D array\n",
    "Algorithm: \n",
    "1. check if the length of the original array is equal to mn (rowscols) or not, if not return empty 2D array as it is impossible to create varid 2D array \n",
    "2. initialize an empty 2D array result to store the constructied array\n",
    "3. iterate i from 0 to m-1\n",
    "a. extract row from original by slicing the index i*n :(i+1)*n-1\n",
    "b. append extracted row to result\n",
    "4. return the result\n",
    "time complexity: O(mn)- we need to iterate over each and every element in the array size mn space complexity: O(mn)- we need to have mn rows and cols space to store the resultant 2D array"
   ]
  },
  {
   "cell_type": "code",
   "execution_count": 15,
   "metadata": {},
   "outputs": [],
   "source": [
    "def convert_to_2d_array(original, m, n):\n",
    "    if len(original) != m * n:\n",
    "        raise ValueError(\"The dimensions of the original array do not match the specified 2D array dimensions.\")\n",
    "    \n",
    "    result = []\n",
    "    for i in range(m):\n",
    "        row = original[i * n : (i + 1) * n]\n",
    "        result.append(row)\n",
    "    \n",
    "    return result"
   ]
  },
  {
   "cell_type": "code",
   "execution_count": 16,
   "metadata": {},
   "outputs": [
    {
     "name": "stdout",
     "output_type": "stream",
     "text": [
      "[[1, 2], [3, 4]]\n"
     ]
    }
   ],
   "source": [
    "original = [1, 2, 3, 4, ]\n",
    "m = 2\n",
    "n = 2\n",
    "\n",
    "result = convert_to_2d_array(original, m, n)\n",
    "print(result)"
   ]
  },
  {
   "attachments": {},
   "cell_type": "markdown",
   "metadata": {},
   "source": [
    "Q2. Count Complete Rows\n",
    "Algorithm: \n",
    "1. initialize level and count to zero \n",
    "2. while n greater than or equal to level, do the following increase level by 1 increase count by 1 subtract n from level \n",
    "3. return count-1 when loop is exited with insuffient number of elements for value n \n",
    "Time complexity: O(sqrt(n)) \n",
    "Space complexity: O(1)"
   ]
  },
  {
   "cell_type": "code",
   "execution_count": 17,
   "metadata": {},
   "outputs": [],
   "source": [
    "def countCompleteRows(n):\n",
    "    level=0\n",
    "    count=0\n",
    "    while n>=level:\n",
    "        count+=1\n",
    "        level+=1\n",
    "        n-=level\n",
    "    return count-1"
   ]
  },
  {
   "cell_type": "code",
   "execution_count": 18,
   "metadata": {},
   "outputs": [
    {
     "data": {
      "text/plain": [
       "2"
      ]
     },
     "execution_count": 18,
     "metadata": {},
     "output_type": "execute_result"
    }
   ],
   "source": [
    "countCompleteRows(5)"
   ]
  },
  {
   "attachments": {},
   "cell_type": "markdown",
   "metadata": {},
   "source": [
    "Q3:-Given an integer array nums sorted in non-decreasing order, return an array of the squares of each number sorted in non-decreasing order."
   ]
  },
  {
   "cell_type": "code",
   "execution_count": 19,
   "metadata": {},
   "outputs": [],
   "source": [
    "def sortedSquares(nums):\n",
    "    result=[num**2 for num in nums]\n",
    "    result.sort()\n",
    "    return result"
   ]
  },
  {
   "cell_type": "code",
   "execution_count": 20,
   "metadata": {},
   "outputs": [
    {
     "data": {
      "text/plain": [
       "[0, 1, 9, 16, 100]"
      ]
     },
     "execution_count": 20,
     "metadata": {},
     "output_type": "execute_result"
    }
   ],
   "source": [
    "sortedSquares([-4,-1,0,3,10])"
   ]
  },
  {
   "attachments": {},
   "cell_type": "markdown",
   "metadata": {},
   "source": [
    "Q4: Find Disappeared Number\n",
    "Algorithm: \n",
    "1.create two sets set1 and set2 from nums1,num2 respectively. A set contains only distinct elements, so any duplicate values will be automatically removed. \n",
    "2.use the difference operation -, to find the distinct elements that are present in set1 but not in set2. convert the result back to the list using list() function \n",
    "3.similarly find the distinct elements present in set2 but not in set1 and covert the result to a list \n",
    "4.return the list answer"
   ]
  },
  {
   "cell_type": "code",
   "execution_count": 21,
   "metadata": {},
   "outputs": [],
   "source": [
    "def findDisappearedNumbers(nums1, nums2):\n",
    "    set1 = set(nums1)\n",
    "    set2 = set(nums2)\n",
    "    \n",
    "    answer = [list(set1 - set2), list(set2 - set1)]\n",
    "    return answer"
   ]
  },
  {
   "cell_type": "code",
   "execution_count": 22,
   "metadata": {},
   "outputs": [
    {
     "data": {
      "text/plain": [
       "[[1, 3], [4, 6]]"
      ]
     },
     "execution_count": 22,
     "metadata": {},
     "output_type": "execute_result"
    }
   ],
   "source": [
    "findDisappearedNumbers([1,2,3],[2,4,6])"
   ]
  },
  {
   "attachments": {},
   "cell_type": "markdown",
   "metadata": {},
   "source": [
    "Q5- Find the distance value\n",
    "Algorithm: \n",
    "1. Initialize the distance value to 0, which will strore the count of elements in arry that satisfy the condition\n",
    "2. iterate through arr1 \n",
    "3. set the flag is_distance_valid to True indicating that the current element num1 satisfies the condition \n",
    "untill proven otherwise\n",
    "4.iterate through each element in arr2\n",
    "5. check the absolute difference num1 and num2 is less than or equal to d. if it is set is_distance_valid to False and \n",
    "break out the loop\n",
    "6. if inner loop completes without setting is_distance_valid to false, it means no element in arr2 satisfy the \n",
    "condition for the current num1. increment the distance to 1\n",
    "7. repeat 2-6 for each element in arr1\n",
    "8. return the final distance"
   ]
  },
  {
   "cell_type": "code",
   "execution_count": 23,
   "metadata": {},
   "outputs": [],
   "source": [
    "def findDistanceValue(arr1,arr2,d):\n",
    "    distance=0\n",
    "    \n",
    "    for num1 in arr1:\n",
    "        is_distance_valid=True\n",
    "        \n",
    "        for num2 in arr2:\n",
    "            if abs(num2-num1)<=d:\n",
    "                is_distance_valid=False\n",
    "                break\n",
    "        if is_distance_valid:\n",
    "            distance+=1\n",
    "    return distance"
   ]
  },
  {
   "cell_type": "code",
   "execution_count": 24,
   "metadata": {},
   "outputs": [
    {
     "data": {
      "text/plain": [
       "2"
      ]
     },
     "execution_count": 24,
     "metadata": {},
     "output_type": "execute_result"
    }
   ],
   "source": [
    "findDistanceValue([4,5,8],[10,9,1,8],2)"
   ]
  },
  {
   "attachments": {},
   "cell_type": "markdown",
   "metadata": {},
   "source": [
    "Q6- Find duplicates\n",
    "Algorithm: \n",
    "1. initialize a set seen to store integers that have been seen before \n",
    "2. initialize an empty list result to store the integers that appear twice \n",
    "3. interate through element num in nums if num is already in the seen set, it means we have encountered it before. Append numer to result list otherwise add number to see list \n",
    "4. return the result list \n",
    "time complexity: O(n) auxiliary \n",
    "space complexity: O(1)"
   ]
  },
  {
   "cell_type": "code",
   "execution_count": 25,
   "metadata": {},
   "outputs": [],
   "source": [
    "def findDuplicates(nums):\n",
    "    seen = set()\n",
    "    result = []\n",
    "    \n",
    "    for num in nums:\n",
    "        if num in seen:\n",
    "            result.append(num)\n",
    "        else:\n",
    "            seen.add(num)\n",
    "    \n",
    "    return result"
   ]
  },
  {
   "cell_type": "code",
   "execution_count": 26,
   "metadata": {},
   "outputs": [
    {
     "data": {
      "text/plain": [
       "[2, 3]"
      ]
     },
     "execution_count": 26,
     "metadata": {},
     "output_type": "execute_result"
    }
   ],
   "source": [
    "findDuplicates([4,3,2,7,8,2,3,1])"
   ]
  },
  {
   "attachments": {},
   "cell_type": "markdown",
   "metadata": {},
   "source": [
    "Q7 finding minimum number using binary search\n",
    "Algorithm: \n",
    "1.initialize two pointer left and right to 0 and n-1 respectively \n",
    "2. while left less than right calculate the middle index as mid=left+(right-left)//2 check if nums[mid]> nums[right] if true it means the minimum element lies lies to the right of the mid. Set left=mid+1 otherwise if nums[mid]<nums[right] it means the minimum element lies to the left of mid or equal to nums[mid] Set right=mid \n",
    "3. after the loop left and right will point to the minimum element of the array \n",
    "4. return nums[left] or nums[right]\n",
    "\n",
    "time complexity: O(log n)- since it halves the search space in each iteration of the binary search. \n",
    "space complexity: O(1)- uses constant extra space"
   ]
  },
  {
   "cell_type": "code",
   "execution_count": 27,
   "metadata": {},
   "outputs": [],
   "source": [
    "def findMin(nums):\n",
    "    left, right = 0, len(nums) - 1\n",
    "\n",
    "    while left < right:\n",
    "        mid = left + (right - left) // 2\n",
    "        \n",
    "        if nums[mid] > nums[right]:\n",
    "            left = mid + 1\n",
    "        else:\n",
    "            right = mid\n",
    "\n",
    "    return nums[left]"
   ]
  },
  {
   "cell_type": "code",
   "execution_count": 28,
   "metadata": {},
   "outputs": [
    {
     "data": {
      "text/plain": [
       "1"
      ]
     },
     "execution_count": 28,
     "metadata": {},
     "output_type": "execute_result"
    }
   ],
   "source": [
    "findMin([3,4,5,1,2])"
   ]
  },
  {
   "attachments": {},
   "cell_type": "markdown",
   "metadata": {},
   "source": [
    "Q8. An integer array original is transformed into a doubled array changed by appending twice the value of every element in original, and then randomly shuffling the resulting array"
   ]
  },
  {
   "cell_type": "code",
   "execution_count": 29,
   "metadata": {},
   "outputs": [],
   "source": [
    "from collections import defaultdict\n",
    "\n",
    "def findOriginalArray(changed):\n",
    "    if len(changed) % 2 != 0:\n",
    "        return []\n",
    "    \n",
    "    count = defaultdict(int)\n",
    "    for num in changed:\n",
    "        count[num] += 1\n",
    "    \n",
    "    original = []\n",
    "    for num in sorted(count.keys()):\n",
    "        if count[num] == 0:\n",
    "            continue\n",
    "        if count[num] > count[num * 2]:\n",
    "            return []\n",
    "        for _ in range(count[num]):\n",
    "            original.append(num)\n",
    "            count[num] -= 1\n",
    "            count[num * 2] -= 1\n",
    "    \n",
    "    return original"
   ]
  },
  {
   "cell_type": "code",
   "execution_count": 30,
   "metadata": {},
   "outputs": [
    {
     "name": "stdout",
     "output_type": "stream",
     "text": [
      "[1, 3, 4]\n"
     ]
    }
   ],
   "source": [
    "changed = [1, 3, 4, 2, 6, 8]\n",
    "result = findOriginalArray(changed)\n",
    "print(result)"
   ]
  }
 ],
 "metadata": {
  "kernelspec": {
   "display_name": "Python 3",
   "language": "python",
   "name": "python3"
  },
  "language_info": {
   "codemirror_mode": {
    "name": "ipython",
    "version": 3
   },
   "file_extension": ".py",
   "mimetype": "text/x-python",
   "name": "python",
   "nbconvert_exporter": "python",
   "pygments_lexer": "ipython3",
   "version": "3.10.4"
  },
  "orig_nbformat": 4
 },
 "nbformat": 4,
 "nbformat_minor": 2
}
