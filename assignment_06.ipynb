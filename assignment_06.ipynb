{
 "cells": [
  {
   "attachments": {},
   "cell_type": "markdown",
   "metadata": {},
   "source": [
    "Q1 A permutation perm of n + 1 integers of all the integers in the range [0, n] can be represented as a string s of length n where:\n",
    "\n",
    "s[i] == 'I' if perm[i] < perm[i + 1], and\n",
    "s[i] == 'D' if perm[i] > perm[i + 1].\n",
    "Given a string s, reconstruct the permutation perm and return it. If there are multiple valid permutations perm, return any of them. \n",
    "\n",
    "Algorithm:\n",
    "\n",
    "1. initialize an empty list perm to store the reconstructed permutation \n",
    "2. initialize variable n to store the length of the string s \n",
    "3. initialize two pointers start and end to 0 and n \n",
    "4. iterate through characters in string if the current character is 'I' append start to perm increment start by 1\n",
    "5. if the current character is 'D' append end to perm decrement end by 1\n",
    "6. append the final value of the perm to start\n",
    "7. return perm\n",
    "\n",
    "time complexity: O(n)- where n is the length of the string and we have to iterate through each character s once space complexity: O(n)- space required to store the reconstructed permutation which can have n+1 elements."
   ]
  },
  {
   "cell_type": "code",
   "execution_count": 3,
   "metadata": {},
   "outputs": [],
   "source": [
    "def Permutation(s):\n",
    "    n=len(s)\n",
    "    perm=[]\n",
    "    \n",
    "    start,end=0,n\n",
    "    \n",
    "    for ch in s:\n",
    "        if ch=='I':\n",
    "            perm.append(start)\n",
    "            start+=1\n",
    "        elif ch=='D':\n",
    "            perm.append(end)\n",
    "            end-=1\n",
    "    perm.append(start)\n",
    "    \n",
    "    return perm"
   ]
  },
  {
   "cell_type": "code",
   "execution_count": 4,
   "metadata": {},
   "outputs": [
    {
     "data": {
      "text/plain": [
       "[0, 4, 1, 3, 2]"
      ]
     },
     "execution_count": 4,
     "metadata": {},
     "output_type": "execute_result"
    }
   ],
   "source": [
    "Permutation('IDID')"
   ]
  },
  {
   "attachments": {},
   "cell_type": "markdown",
   "metadata": {},
   "source": [
    "Q2 You are given an m x n integer matrix matrix with the following two properties:\n",
    "\n",
    "Each row is sorted in non-decreasing order.\n",
    "The first integer of each row is greater than the last integer of the previous row.\n",
    "Given an integer target, return true if target is in matrix or false otherwise.\n",
    "\n",
    "You must write a solution in O(log(m * n)) time complexity. \n",
    "\n",
    "Algorithm: \n",
    "1. select two pointers start and end to first and last indices of the matrix \n",
    "2. while start is less than or equal to end,do calculate the middle index mid as (start+end)//2 covert mid into matrix coordinates row=mid//n and col=mid%n compare the target with value at matrix[row][col] if the target is equal to the value,return the value if the target is less than the value, update end to mid-1 if the target is greater than the value, update start to mid+1 \n",
    "3. if the target is not found after the while loop, return False\n",
    "\n",
    "time complexity: O(m*n) since we are halving the search range in each iteration."
   ]
  },
  {
   "cell_type": "code",
   "execution_count": 5,
   "metadata": {},
   "outputs": [],
   "source": [
    "def searchmatrix(matrix,target):\n",
    "    if not matrix or not matrix[0]:\n",
    "        return False\n",
    "    m,n=len(matrix), len(matrix[0])\n",
    "    start,end=0,m*n-1\n",
    "    \n",
    "    while start<=end:\n",
    "        mid=(start+end)//2\n",
    "        row,col=mid//n,mid%n\n",
    "        value=matrix[row][col]\n",
    "        \n",
    "        if target==value:\n",
    "            return True\n",
    "        elif target<value:\n",
    "            end=mid-1\n",
    "        else:\n",
    "            start=mid+1\n",
    "    return False"
   ]
  },
  {
   "cell_type": "code",
   "execution_count": 6,
   "metadata": {},
   "outputs": [
    {
     "data": {
      "text/plain": [
       "True"
      ]
     },
     "execution_count": 6,
     "metadata": {},
     "output_type": "execute_result"
    }
   ],
   "source": [
    "searchmatrix([[1,3,5,7],[10,11,16,20],[23,30,34,60]],3)"
   ]
  },
  {
   "attachments": {},
   "cell_type": "markdown",
   "metadata": {},
   "source": [
    "Q3 Given an array of integers arr, return true if and only if it is a valid mountain array.\n",
    "\n",
    "Recall that arr is a mountain array if and only if:\n",
    "\n",
    "arr.length >= 3\n",
    "There exists some i with 0 < i < arr.length - 1 such that:\n",
    "arr[0] < arr[1] < ... < arr[i - 1] < arr[i]\n",
    "arr[i] > arr[i + 1] > ... > arr[arr.length - 1]\n",
    "\n",
    "Algorithm: \n",
    "1. check if the length of array arr is less than 3, return false because a moutain array must have atleast 3 elements \n",
    "2. initialize variable i=0, to represent the current index \n",
    "3. while i+1 less than len(arr) and arr[i]<arr[i+1] increment i to find the peak of the mountain \n",
    "4. if i==1 or i==len(arr)-1 return false because there is no peak \n",
    "5. while i+1 less than len(arr) and arr[i]>arr[i+1] increment i to check the stictly decreasing part of the mountain \n",
    "6. if i==len(arr)-1, return true becasue we have reached the end of the array in a strictly decreasing pattern, which satisfies the mountain array conditions. \n",
    "7. Otherwise, return false because the array did not meet the conditions for a mountain array.\n",
    "\n",
    "Time complexity: O(n) \n",
    "Space complexity:O(1)"
   ]
  },
  {
   "cell_type": "code",
   "execution_count": 7,
   "metadata": {},
   "outputs": [],
   "source": [
    "def validMountainArray(arr):\n",
    "    if len(arr)<3:\n",
    "        return False\n",
    "    i=0\n",
    "    \n",
    "    while i+1<len(arr) and arr[i]<arr[i+1]:\n",
    "        i+=1\n",
    "        \n",
    "    if i==0 or i==len(arr)-1:\n",
    "        return False\n",
    "    \n",
    "    while i+1<len(arr) and arr[i]>arr[i+1]:\n",
    "        i+=1\n",
    "    return i==len(arr)-1"
   ]
  },
  {
   "cell_type": "code",
   "execution_count": 8,
   "metadata": {},
   "outputs": [
    {
     "data": {
      "text/plain": [
       "True"
      ]
     },
     "execution_count": 8,
     "metadata": {},
     "output_type": "execute_result"
    }
   ],
   "source": [
    "validMountainArray([0,2,3,4,5,2,1,0])"
   ]
  },
  {
   "cell_type": "code",
   "execution_count": 9,
   "metadata": {},
   "outputs": [
    {
     "data": {
      "text/plain": [
       "False"
      ]
     },
     "execution_count": 9,
     "metadata": {},
     "output_type": "execute_result"
    }
   ],
   "source": [
    "validMountainArray([2,1])"
   ]
  },
  {
   "cell_type": "code",
   "execution_count": 10,
   "metadata": {},
   "outputs": [
    {
     "data": {
      "text/plain": [
       "True"
      ]
     },
     "execution_count": 10,
     "metadata": {},
     "output_type": "execute_result"
    }
   ],
   "source": [
    "validMountainArray([1,3,1])"
   ]
  },
  {
   "attachments": {},
   "cell_type": "markdown",
   "metadata": {},
   "source": [
    "Q4 Given a binary array nums, return the maximum length of a contiguous subarray with an equal number of 0 and 1.\n",
    "\n",
    "Algorithm: \n",
    "1. initialize a variable max length to store the maxium length of the subarray and a variable count to keep track of the running count (count of 1s minus count of 0s) \n",
    "2. create an empty dictionary count map to store the running conts and their corresponding indices \n",
    "3. iterate through the binary array nums through left to right \n",
    "4. for each element in nunms update the count variable if the element is 1, increment count by 1 if the element is 0, decrement count by 1 \n",
    "5. check if count is equal to 0, if it is update max_length to the current index plus 1(since the entire subarray up to the current index has an equal number of 0s and 1s) \n",
    "6. If count is already present in count_map, calculate the length of the subarray by subtracting the index stored in count_map[count] from the current index. Update max_length with the maximum of the current max_length and the calculated subarray length. \n",
    "7. If count is not present in count_map, store the current index in count_map[count]. \n",
    "8. After iterating through all elements, return max_length. \n",
    "time complexity: O(n) \n",
    "space complexity:O(n)"
   ]
  },
  {
   "cell_type": "code",
   "execution_count": 11,
   "metadata": {},
   "outputs": [],
   "source": [
    "def MaxLength(nums):\n",
    "    count_map={0: -1}  #initialize with count 0 and index -1\n",
    "    max_length=0\n",
    "    count=0\n",
    "    \n",
    "    for i, num in enumerate(nums):\n",
    "        count+=1 if num==1 else -1\n",
    "        \n",
    "        if count in count_map:\n",
    "            subarray_length=i-count_map[count]\n",
    "            max_length=max(max_length,subarray_length)\n",
    "        else:\n",
    "            count_map[count]=i\n",
    "    return max_length\n",
    "    "
   ]
  },
  {
   "cell_type": "code",
   "execution_count": 12,
   "metadata": {},
   "outputs": [
    {
     "data": {
      "text/plain": [
       "2"
      ]
     },
     "execution_count": 12,
     "metadata": {},
     "output_type": "execute_result"
    }
   ],
   "source": [
    "MaxLength([0,1])"
   ]
  },
  {
   "attachments": {},
   "cell_type": "markdown",
   "metadata": {},
   "source": [
    "Q5 The product sum of two equal-length arrays a and b is equal to the sum of a[i] * b[i] for all 0 <= i < a.length (0-indexed).\n",
    "\n",
    "For example, if a = [1,2,3,4] and b = [5,2,3,1], the product sum would be 15 + 22 + 33 + 41 = 22.\n",
    "Given two arrays nums1 and nums2 of length n, return the minimum product sum* if you are allowed to rearrange the order of the elements in* nums1.\n",
    "\n",
    "Algorithm: \n",
    "1. sort nums1 and nums2 in non-decreasing order \n",
    "2. initialize two pointers left and right to the start and end of nums1, respectively \n",
    "3. initialize min_product_sum to store the minimum product of sum \n",
    "4. while left is less than or equal to right. calculate the product of nums1[left] and nums2[left] calculate the product of nums1[right] and nums2[right] add the smaller product to min_product_sum move the left pointer one step to the right move the right pointer one step to the left \n",
    "5. return min_product_sum \n",
    "time complexity: O(n log n), where n is the length of input arrays nums1,nums2. This is because the algorithm sort both arrays using a comparision based sorting algorithm. \n",
    "space complexity: O(1)"
   ]
  },
  {
   "cell_type": "code",
   "execution_count": 13,
   "metadata": {},
   "outputs": [],
   "source": [
    "def minProductSum(nums1, nums2):\n",
    "    nums1.sort()  \n",
    "    nums2.sort(reverse=True)  \n",
    "\n",
    "    minProductSum = 0\n",
    "    for i in range(len(nums1)):\n",
    "        minProductSum += nums1[i] * nums2[i]\n",
    "\n",
    "    return minProductSum "
   ]
  },
  {
   "cell_type": "code",
   "execution_count": 14,
   "metadata": {},
   "outputs": [
    {
     "name": "stdout",
     "output_type": "stream",
     "text": [
      "40\n"
     ]
    }
   ],
   "source": [
    "nums1 = [5, 3, 4, 2]\n",
    "nums2 = [4, 2, 2, 5]\n",
    "result = minProductSum(nums1, nums2)\n",
    "print(result)"
   ]
  },
  {
   "attachments": {},
   "cell_type": "markdown",
   "metadata": {},
   "source": [
    "Q6 An integer array original is transformed into a doubled array changed by appending twice the value of every element in original, and then randomly shuffling the resulting array.\n",
    "\n",
    "Given an array changed, return original if changed is a doubled* array. If* changed is not a doubled* array, return an empty array. The elements in* original may be returned in any* order*."
   ]
  },
  {
   "cell_type": "code",
   "execution_count": 15,
   "metadata": {},
   "outputs": [],
   "source": [
    "from collections import defaultdict\n",
    "\n",
    "def OriginalArray(changed):\n",
    "    if len(changed) % 2 != 0:\n",
    "        return []\n",
    "    \n",
    "    count = defaultdict(int)\n",
    "    for num in changed:\n",
    "        count[num] += 1\n",
    "    \n",
    "    original = []\n",
    "    for num in sorted(count.keys()):\n",
    "        if count[num] == 0:\n",
    "            continue\n",
    "        if count[num] > count[num * 2]:\n",
    "            return []\n",
    "        for _ in range(count[num]):\n",
    "            original.append(num)\n",
    "            count[num] -= 1\n",
    "            count[num * 2] -= 1\n",
    "    \n",
    "    return original"
   ]
  },
  {
   "cell_type": "code",
   "execution_count": 16,
   "metadata": {},
   "outputs": [
    {
     "name": "stdout",
     "output_type": "stream",
     "text": [
      "[1, 3, 4]\n"
     ]
    }
   ],
   "source": [
    "changed = [1, 3, 4, 2, 6, 8]\n",
    "result = OriginalArray(changed)\n",
    "print(result)"
   ]
  },
  {
   "attachments": {},
   "cell_type": "markdown",
   "metadata": {},
   "source": [
    "Q7 Given a positive integer n, generate an n x n matrix filled with elements from 1 to n2 in spiral order.\n",
    "\n",
    "Algorithm: \n",
    "1. initialize the matrix result of size nn with all elements set to 0 \n",
    "2. initialize rowStart, rowEnd, colStart,colEnd to represent the boundaries of the current spiral \n",
    "3. initialize a variable num to 1, which represents the current element to be inserted in the matrix \n",
    "4. use a whileloop that continues until num reaches n2 \n",
    "5. within while loop traverse the top row, from colStart to colEnd and fill the elements of the matrix with the current value of the num increment num after each insertion increment rowStart by 1 to exclude the top row from further traversal traverse the right column from rowStart to rowEnd and fill all the elements of the matrix with the current value of num, incrementing num after each insertion derement colEnd by 1 to exclude the right column from further traversal check if num has reached n*2. if it has, break out of the while loop Traverse the bottom row, from colEnd to colStart, and fill the elements of the matrix with the current value of num, incrementing num after each insertion. Decrement rowEnd by 1 to exclude the bottom row from further traversal. Traverse the left column, from rowEnd to rowStart, and fill the elements of the matrix with the current value of num, incrementing num after each insertion. Increment colStart by 1 to exclude the left column from further traversal. \n",
    "6. Return the populated matrix result.\n",
    "\n",
    "time and space complexities: O(n*2)"
   ]
  },
  {
   "cell_type": "code",
   "execution_count": 17,
   "metadata": {},
   "outputs": [],
   "source": [
    "def gen_Matrix(n):\n",
    "    result = [[0] * n for _ in range(n)]\n",
    "    rowStart, rowEnd = 0, n - 1\n",
    "    colStart, colEnd = 0, n - 1\n",
    "    num = 1\n",
    "\n",
    "    while num <= n * n:\n",
    "        for i in range(colStart, colEnd + 1):\n",
    "            result[rowStart][i] = num\n",
    "            num += 1\n",
    "        rowStart += 1\n",
    "\n",
    "        for i in range(rowStart, rowEnd + 1):\n",
    "            result[i][colEnd] = num\n",
    "            num += 1\n",
    "        colEnd -= 1\n",
    "\n",
    "        if num > n * n:\n",
    "            break\n",
    "\n",
    "        for i in range(colEnd, colStart - 1, -1):\n",
    "            result[rowEnd][i] = num\n",
    "            num += 1\n",
    "        rowEnd -= 1\n",
    "\n",
    "        for i in range(rowEnd, rowStart - 1, -1):\n",
    "            result[i][colStart] = num\n",
    "            num += 1\n",
    "        colStart += 1\n",
    "\n",
    "    return result"
   ]
  },
  {
   "cell_type": "code",
   "execution_count": 18,
   "metadata": {},
   "outputs": [
    {
     "data": {
      "text/plain": [
       "[[1, 2, 3], [8, 9, 4], [7, 6, 5]]"
      ]
     },
     "execution_count": 18,
     "metadata": {},
     "output_type": "execute_result"
    }
   ],
   "source": [
    "gen_Matrix(3)"
   ]
  },
  {
   "attachments": {},
   "cell_type": "markdown",
   "metadata": {},
   "source": [
    "Q8 Given two sparse matrices mat1 of size m x k and mat2 of size k x n, return the result of mat1 x mat2. You may assume that multiplication is always possible.\n",
    "\n",
    "Algorithm: \n",
    "1. Create an empty result matrix result of size m x n to store the product of mat1 and mat2. \n",
    "2. Iterate through each non-zero element in mat1 and multiply it with the corresponding non-zero elements in mat2. \n",
    "3. For each non-zero element mat1[i][j] in mat1: Iterate through each non-zero element in the j-th column of mat2. Multiply mat1[i][j] with the corresponding non-zero element mat2[j][k] in mat2. Add the result to result[i][k]. \n",
    "4. Return the resulting matrix result."
   ]
  },
  {
   "cell_type": "code",
   "execution_count": 19,
   "metadata": {},
   "outputs": [],
   "source": [
    "def mul(mat1, mat2):\n",
    "    m, k = len(mat1), len(mat1[0])\n",
    "    n = len(mat2[0])\n",
    "    result = [[0] * n for _ in range(m)]\n",
    "\n",
    "    for i in range(m):\n",
    "        for j in range(k):\n",
    "            if mat1[i][j] != 0:\n",
    "                for l in range(n):\n",
    "                    if mat2[j][l] != 0:\n",
    "                        result[i][l] += mat1[i][j] * mat2[j][l]\n",
    "\n",
    "    return result"
   ]
  },
  {
   "cell_type": "code",
   "execution_count": 20,
   "metadata": {},
   "outputs": [
    {
     "data": {
      "text/plain": [
       "[[7, 0, 0], [-7, 0, 3]]"
      ]
     },
     "execution_count": 20,
     "metadata": {},
     "output_type": "execute_result"
    }
   ],
   "source": [
    "mul([[1,0,0],[-1,0,3]],[[7,0,0],[0,0,0],[0,0,1]])"
   ]
  }
 ],
 "metadata": {
  "kernelspec": {
   "display_name": "Python 3",
   "language": "python",
   "name": "python3"
  },
  "language_info": {
   "codemirror_mode": {
    "name": "ipython",
    "version": 3
   },
   "file_extension": ".py",
   "mimetype": "text/x-python",
   "name": "python",
   "nbconvert_exporter": "python",
   "pygments_lexer": "ipython3",
   "version": "3.10.4"
  },
  "orig_nbformat": 4
 },
 "nbformat": 4,
 "nbformat_minor": 2
}
